{
  "cells": [
    {
      "cell_type": "markdown",
      "metadata": {
        "id": "KJ-7lDzK3dAI"
      },
      "source": [
        "Author: Kevin Zhao"
      ]
    },
    {
      "cell_type": "markdown",
      "metadata": {
        "id": "k3_G7UuG3dAL"
      },
      "source": [
        "On your local computer"
      ]
    },
    {
      "cell_type": "code",
      "execution_count": null,
      "metadata": {
        "id": "Fv-tkyXJ3dAL",
        "outputId": "a667db16-c299-42f6-85d7-d34a211f9724"
      },
      "outputs": [
        {
          "name": "stdout",
          "output_type": "stream",
          "text": [
            "OS information: Windows-10-10.0.19045-SP0\n",
            "Python version: 3.10.14 | packaged by Anaconda, Inc. | (main, Mar 21 2024, 16:20:14) [MSC v.1916 64 bit (AMD64)]\n",
            "PyTorch version: 2.2.2+cpu\n",
            "Fastai version: 2.7.14\n",
            "Fastbook version: 0.0.29\n"
          ]
        }
      ],
      "source": [
        "# On local machine with endg411 activated: paste code to display versions here and run cell\n",
        "import platform\n",
        "print(\"OS information:\", platform.platform())\n",
        "\n",
        "import sys\n",
        "print(\"Python version:\", sys.version)\n",
        "\n",
        "import torch\n",
        "print(\"PyTorch version:\", torch.__version__)\n",
        "\n",
        "import fastai\n",
        "print(\"Fastai version:\", fastai.__version__)\n",
        "\n",
        "import fastbook\n",
        "print(\"Fastbook version:\", fastbook.__version__)"
      ]
    },
    {
      "cell_type": "code",
      "execution_count": null,
      "metadata": {
        "id": "JrbtTVpV3dAM",
        "outputId": "7277bfcf-5cd9-48a9-d59b-99ef8f10bb30"
      },
      "outputs": [
        {
          "name": "stdout",
          "output_type": "stream",
          "text": [
            "Python version: 3.10.14 | packaged by Anaconda, Inc. | (main, Mar 21 2024, 16:20:14) [MSC v.1916 64 bit (AMD64)]\n",
            "pandas version: 1.5.3\n",
            "matplotlib version: 3.8.4\n",
            "NumPy version: 1.24.2\n",
            "Jupyter lab version: 4.1.6\n",
            "scikit-learn version: 1.3.0\n",
            "PyTorch version: 2.0.1+cpu\n",
            "ISLP version: v0.3.20\n"
          ]
        }
      ],
      "source": [
        "# On local machine with islp activated: paste code to display versions here and run cell\n",
        "import sys\n",
        "print(\"Python version:\", sys.version)\n",
        "\n",
        "import pandas as pd\n",
        "print(\"pandas version:\", pd.__version__)\n",
        "\n",
        "import matplotlib\n",
        "print(\"matplotlib version:\", matplotlib.__version__)\n",
        "\n",
        "import numpy as np\n",
        "print(\"NumPy version:\", np.__version__)\n",
        "\n",
        "import jupyterlab\n",
        "print(\"Jupyter lab version:\", jupyterlab.__version__)\n",
        "\n",
        "import sklearn\n",
        "print(\"scikit-learn version:\", sklearn.__version__)\n",
        "\n",
        "import torch\n",
        "print(\"PyTorch version:\", torch.__version__)\n",
        "\n",
        "import ISLP\n",
        "print(\"ISLP version:\", ISLP.__version__)"
      ]
    },
    {
      "cell_type": "markdown",
      "metadata": {
        "id": "f8jOV36y3dAN"
      },
      "source": [
        "On google colab"
      ]
    },
    {
      "cell_type": "code",
      "execution_count": 1,
      "metadata": {
        "colab": {
          "base_uri": "https://localhost:8080/"
        },
        "id": "2UJxgDrO3dAN",
        "outputId": "b49f1bc6-9626-4eec-8ca4-04bc799d51cd"
      },
      "outputs": [
        {
          "output_type": "stream",
          "name": "stdout",
          "text": [
            "\u001b[2K     \u001b[90m━━━━━━━━━━━━━━━━━━━━━━━━━━━━━━━━━━━━━━━━\u001b[0m \u001b[32m719.8/719.8 kB\u001b[0m \u001b[31m4.8 MB/s\u001b[0m eta \u001b[36m0:00:00\u001b[0m\n",
            "\u001b[2K     \u001b[90m━━━━━━━━━━━━━━━━━━━━━━━━━━━━━━━━━━━━━━━━\u001b[0m \u001b[32m510.5/510.5 kB\u001b[0m \u001b[31m7.8 MB/s\u001b[0m eta \u001b[36m0:00:00\u001b[0m\n",
            "\u001b[2K     \u001b[90m━━━━━━━━━━━━━━━━━━━━━━━━━━━━━━━━━━━━━━━━\u001b[0m \u001b[32m116.3/116.3 kB\u001b[0m \u001b[31m8.0 MB/s\u001b[0m eta \u001b[36m0:00:00\u001b[0m\n",
            "\u001b[2K     \u001b[90m━━━━━━━━━━━━━━━━━━━━━━━━━━━━━━━━━━━━━━━━\u001b[0m \u001b[32m194.1/194.1 kB\u001b[0m \u001b[31m7.2 MB/s\u001b[0m eta \u001b[36m0:00:00\u001b[0m\n",
            "\u001b[2K     \u001b[90m━━━━━━━━━━━━━━━━━━━━━━━━━━━━━━━━━━━━━━━━\u001b[0m \u001b[32m134.8/134.8 kB\u001b[0m \u001b[31m8.2 MB/s\u001b[0m eta \u001b[36m0:00:00\u001b[0m\n",
            "\u001b[2K     \u001b[90m━━━━━━━━━━━━━━━━━━━━━━━━━━━━━━━━━━━━━━━━\u001b[0m \u001b[32m1.6/1.6 MB\u001b[0m \u001b[31m11.5 MB/s\u001b[0m eta \u001b[36m0:00:00\u001b[0m\n",
            "\u001b[?25h"
          ]
        }
      ],
      "source": [
        "# On colab: Install fastbook, fastai, and dependencies\n",
        "!pip install -Uqq fastbook"
      ]
    },
    {
      "cell_type": "code",
      "execution_count": 2,
      "metadata": {
        "colab": {
          "base_uri": "https://localhost:8080/"
        },
        "id": "TVJaW_rU3dAN",
        "outputId": "478d87e7-404f-415f-fbcd-e22bd26a2097"
      },
      "outputs": [
        {
          "output_type": "stream",
          "name": "stdout",
          "text": [
            "OS information: Linux-6.1.58+-x86_64-with-glibc2.35\n",
            "Python version: 3.10.12 (main, Nov 20 2023, 15:14:05) [GCC 11.4.0]\n",
            "PyTorch version: 2.2.1+cu121\n",
            "Fastai version: 2.7.14\n",
            "Fastbook version: 0.0.29\n"
          ]
        }
      ],
      "source": [
        "# On colab: paste code to display versions here and run cell\n",
        "import platform\n",
        "print(\"OS information:\", platform.platform())\n",
        "\n",
        "import sys\n",
        "print(\"Python version:\", sys.version)\n",
        "\n",
        "import torch\n",
        "print(\"PyTorch version:\", torch.__version__)\n",
        "\n",
        "import fastai\n",
        "print(\"Fastai version:\", fastai.__version__)\n",
        "\n",
        "import fastbook\n",
        "print(\"Fastbook version:\", fastbook.__version__)"
      ]
    },
    {
      "cell_type": "markdown",
      "metadata": {
        "id": "0PIAr4-e3dAO"
      },
      "source": [
        "## Reflection\n",
        "Include:\n",
        "- Something you are excited about learning in this course.\n",
        "- Potential difficulties you anticipate."
      ]
    },
    {
      "cell_type": "markdown",
      "metadata": {
        "id": "Dn8xBDwM3dAO"
      },
      "source": [
        "I'm interested in expanding on what I have learned in ENDG 410. Some difficulties I anticipate include spending time on training models, which will take some time."
      ]
    }
  ],
  "metadata": {
    "kernelspec": {
      "display_name": "Python 3 (ipykernel)",
      "language": "python",
      "name": "python3"
    },
    "language_info": {
      "codemirror_mode": {
        "name": "ipython",
        "version": 3
      },
      "file_extension": ".py",
      "mimetype": "text/x-python",
      "name": "python",
      "nbconvert_exporter": "python",
      "pygments_lexer": "ipython3",
      "version": "3.10.14"
    },
    "colab": {
      "provenance": []
    }
  },
  "nbformat": 4,
  "nbformat_minor": 0
}