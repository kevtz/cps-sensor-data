{
 "cells": [
  {
   "cell_type": "code",
   "execution_count": 1,
   "id": "51aa1458",
   "metadata": {},
   "outputs": [],
   "source": [
    "#load class\n",
    "import numpy as np\n",
    "import pandas as pd # in case it's not installed then install using conda create -c conda-forge -n name_of_my_env python pandas\n",
    "# more installations information can be found:https://pandas.pydata.org/docs/getting_started/install.html\n",
    "import os\n",
    "#load sklearn module for creating and evaluating ML models. In case sklearn isn't installed,\n",
    "#follow this link https://scikit-learn.org/stable/install.html for further details on the installation process.\n",
    "from sklearn.neighbors import KNeighborsClassifier #load your classifier. In this code, I have used KNN. You can choose other algorithms. You have to use at least 3 to complete this.\n",
    "from sklearn.tree import DecisionTreeClassifier \n",
    "from sklearn.neural_network import MLPClassifier\n",
    "from sklearn.preprocessing import StandardScaler #module for perform scaling"
   ]
  },
  {
   "cell_type": "code",
   "execution_count": 2,
   "id": "5f9ad7e5",
   "metadata": {},
   "outputs": [],
   "source": [
    "from sklearn.model_selection import train_test_split #module for splitting datatset\n",
    "from sklearn import metrics #module for evaluating performance"
   ]
  },
  {
   "cell_type": "code",
   "execution_count": 3,
   "id": "b3d1fd2b",
   "metadata": {},
   "outputs": [
    {
     "data": {
      "text/html": [
       "<div>\n",
       "<style scoped>\n",
       "    .dataframe tbody tr th:only-of-type {\n",
       "        vertical-align: middle;\n",
       "    }\n",
       "\n",
       "    .dataframe tbody tr th {\n",
       "        vertical-align: top;\n",
       "    }\n",
       "\n",
       "    .dataframe thead th {\n",
       "        text-align: right;\n",
       "    }\n",
       "</style>\n",
       "<table border=\"1\" class=\"dataframe\">\n",
       "  <thead>\n",
       "    <tr style=\"text-align: right;\">\n",
       "      <th></th>\n",
       "      <th>Temp</th>\n",
       "      <th>Humd</th>\n",
       "      <th>Label</th>\n",
       "    </tr>\n",
       "  </thead>\n",
       "  <tbody>\n",
       "    <tr>\n",
       "      <th>0</th>\n",
       "      <td>22.0</td>\n",
       "      <td>29.0</td>\n",
       "      <td>1.0</td>\n",
       "    </tr>\n",
       "    <tr>\n",
       "      <th>1</th>\n",
       "      <td>22.0</td>\n",
       "      <td>29.0</td>\n",
       "      <td>1.0</td>\n",
       "    </tr>\n",
       "    <tr>\n",
       "      <th>2</th>\n",
       "      <td>22.0</td>\n",
       "      <td>29.0</td>\n",
       "      <td>1.0</td>\n",
       "    </tr>\n",
       "    <tr>\n",
       "      <th>3</th>\n",
       "      <td>22.0</td>\n",
       "      <td>29.0</td>\n",
       "      <td>1.0</td>\n",
       "    </tr>\n",
       "    <tr>\n",
       "      <th>4</th>\n",
       "      <td>22.0</td>\n",
       "      <td>29.0</td>\n",
       "      <td>1.0</td>\n",
       "    </tr>\n",
       "  </tbody>\n",
       "</table>\n",
       "</div>"
      ],
      "text/plain": [
       "   Temp  Humd  Label\n",
       "0  22.0  29.0    1.0\n",
       "1  22.0  29.0    1.0\n",
       "2  22.0  29.0    1.0\n",
       "3  22.0  29.0    1.0\n",
       "4  22.0  29.0    1.0"
      ]
     },
     "execution_count": 3,
     "metadata": {},
     "output_type": "execute_result"
    }
   ],
   "source": [
    "#load your data\n",
    "df = pd.read_csv(\"data.csv\") #change the name accordingly\n",
    "df.head() # prints top 5 rows from the datatset to check data is load or not"
   ]
  },
  {
   "cell_type": "code",
   "execution_count": 4,
   "id": "2d30f31a",
   "metadata": {},
   "outputs": [
    {
     "name": "stdout",
     "output_type": "stream",
     "text": [
      "Missing Values:\n",
      " Temp     0\n",
      "Humd     0\n",
      "Label    0\n",
      "dtype: int64\n"
     ]
    }
   ],
   "source": [
    "# Check for missing values\n",
    "missing_values = df.isnull().sum()\n",
    "print(\"Missing Values:\\n\", missing_values)"
   ]
  },
  {
   "cell_type": "code",
   "execution_count": 5,
   "id": "fa464ebd",
   "metadata": {},
   "outputs": [],
   "source": [
    "# remove duplicatesd\n",
    "df = df.drop_duplicates()"
   ]
  },
  {
   "cell_type": "code",
   "execution_count": 6,
   "id": "866fcf39",
   "metadata": {},
   "outputs": [],
   "source": [
    "# prepare features\n",
    "x = df.drop(['Label'],axis=1) #remove class or label\n",
    "y = df['Label'] #load label"
   ]
  },
  {
   "cell_type": "code",
   "execution_count": 150,
   "id": "89a9c05d",
   "metadata": {},
   "outputs": [],
   "source": [
    "x_train,x_test,y_train,y_test = train_test_split(x,y,test_size=.2) #split datatset. Here ratio is 80:20. Change accordingly"
   ]
  },
  {
   "cell_type": "code",
   "execution_count": 151,
   "id": "e3f46fa0",
   "metadata": {},
   "outputs": [],
   "source": [
    "# Scale the data using standardization\n",
    "scaler = StandardScaler()\n",
    "x_train = scaler.fit_transform(x_train) #scale training set\n",
    "x_test = scaler.transform(x_test) #scale test set"
   ]
  },
  {
   "cell_type": "code",
   "execution_count": 152,
   "id": "c03bac5e",
   "metadata": {
    "scrolled": true
   },
   "outputs": [
    {
     "name": "stdout",
     "output_type": "stream",
     "text": [
      "Accuracy: 0.9891304347826086\n"
     ]
    }
   ],
   "source": [
    "m_k = KNeighborsClassifier(n_neighbors=3) # KNN classifier for 3 neighbours\n",
    "KNN = m_k.fit(x_train,y_train) # start training\n",
    "y_KNN = KNN.predict(x_test) # performance in the test set\n",
    "print(\"Accuracy:\", metrics.accuracy_score(y_test,y_KNN)) # evaluating the performance based on accuracy"
   ]
  },
  {
   "cell_type": "code",
   "execution_count": 153,
   "id": "ab2e2083",
   "metadata": {},
   "outputs": [
    {
     "name": "stdout",
     "output_type": "stream",
     "text": [
      "Accuracy: 1.0\n"
     ]
    }
   ],
   "source": [
    "m_t = DecisionTreeClassifier(max_depth=5) # Decision Tree classifier with max depth 5\n",
    "DTC = m_t.fit(x_train,y_train) # start training\n",
    "y_DTC = DTC.predict(x_test) # performance in the test set\n",
    "print(\"Accuracy:\", metrics.accuracy_score(y_test,y_DTC)) # evaluating the performance based on accuracy"
   ]
  },
  {
   "cell_type": "code",
   "execution_count": 154,
   "id": "ee54967e",
   "metadata": {},
   "outputs": [
    {
     "name": "stdout",
     "output_type": "stream",
     "text": [
      "Accuracy: 0.9782608695652174\n"
     ]
    }
   ],
   "source": [
    "m_m = MLPClassifier(max_iter=1000) # Multi-layer Perceptron classifier with max iteration of 1000\n",
    "MLP = m_m.fit(x_train,y_train) # start training\n",
    "y_MLP = MLP.predict(x_test) # performance in the test set\n",
    "print(\"Accuracy:\", metrics.accuracy_score(y_test,y_MLP)) # evaluating the performance based on accuracy"
   ]
  },
  {
   "cell_type": "code",
   "execution_count": 24,
   "id": "d9359898",
   "metadata": {},
   "outputs": [],
   "source": [
    "# library for save and load scikit-learn models\n",
    "import pickle\n",
    "# file name, recommending *.pickle as a file extension\n",
    "filename = \"KNNmodel.pickle\"\n",
    "# save model\n",
    "pickle.dump(m_k, open(filename, \"wb\"))"
   ]
  },
  {
   "cell_type": "code",
   "execution_count": 155,
   "id": "9a676de3",
   "metadata": {},
   "outputs": [
    {
     "data": {
      "text/html": [
       "<div>\n",
       "<style scoped>\n",
       "    .dataframe tbody tr th:only-of-type {\n",
       "        vertical-align: middle;\n",
       "    }\n",
       "\n",
       "    .dataframe tbody tr th {\n",
       "        vertical-align: top;\n",
       "    }\n",
       "\n",
       "    .dataframe thead th {\n",
       "        text-align: right;\n",
       "    }\n",
       "</style>\n",
       "<table border=\"1\" class=\"dataframe\">\n",
       "  <thead>\n",
       "    <tr style=\"text-align: right;\">\n",
       "      <th></th>\n",
       "      <th>Accuracy</th>\n",
       "      <th>Precision</th>\n",
       "      <th>Recall</th>\n",
       "      <th>F1 score</th>\n",
       "    </tr>\n",
       "  </thead>\n",
       "  <tbody>\n",
       "    <tr>\n",
       "      <th>KNN</th>\n",
       "      <td>0.989130</td>\n",
       "      <td>0.981132</td>\n",
       "      <td>1.0</td>\n",
       "      <td>0.990476</td>\n",
       "    </tr>\n",
       "    <tr>\n",
       "      <th>DTC</th>\n",
       "      <td>1.000000</td>\n",
       "      <td>1.000000</td>\n",
       "      <td>1.0</td>\n",
       "      <td>1.000000</td>\n",
       "    </tr>\n",
       "    <tr>\n",
       "      <th>MLP</th>\n",
       "      <td>0.978261</td>\n",
       "      <td>0.962963</td>\n",
       "      <td>1.0</td>\n",
       "      <td>0.981132</td>\n",
       "    </tr>\n",
       "  </tbody>\n",
       "</table>\n",
       "</div>"
      ],
      "text/plain": [
       "     Accuracy  Precision  Recall  F1 score\n",
       "KNN  0.989130   0.981132     1.0  0.990476\n",
       "DTC  1.000000   1.000000     1.0  1.000000\n",
       "MLP  0.978261   0.962963     1.0  0.981132"
      ]
     },
     "execution_count": 155,
     "metadata": {},
     "output_type": "execute_result"
    }
   ],
   "source": [
    "p_tbl = pd.DataFrame(columns=['Accuracy','Precision','Recall','F1 score']) # create performance table\n",
    "models = [y_KNN,y_DTC,y_MLP]\n",
    "for model in models: # fill performance table\n",
    "    p_tbl.loc[len(p_tbl.index)] = [metrics.accuracy_score(y_test,model),\n",
    "                                         metrics.precision_score(y_test,model),\n",
    "                                         metrics.recall_score(y_test,model),\n",
    "                                         metrics.f1_score(y_test,model)]\n",
    "p_tbl.rename(index={0:\"KNN\",1:\"DTC\",2:\"MLP\"}) # change indices to classifier names"
   ]
  },
  {
   "cell_type": "markdown",
   "id": "f7cc1713",
   "metadata": {},
   "source": [
    "1. What is a Raspberry Pi? Why did you use it? Which version did you use?\n",
    "    -A raspberry pi is esscentially just a small computer that contains all its components on a single board \n",
    "    -The raspberry pi interfaces with electronic equipment(DHT11), and allows us to transmit the data from the electronic equipment over a network to a seperate server for storage\n",
    "    -Raspberry Pi 4\n",
    "2. What is socket programming, a server, and a client?\n",
    "    -A method of programming that allows communication between 2 devices over a shared network\n",
    "    -A server is a device that provides data or services to other devices on the shared network\n",
    "    -A client is a device that requests and receives data or services from servers on a shared network\n",
    "3. Which protocol did it use in socket programming? What are the benefits of using that protocol,and what are other protocols that can also be used?\n",
    "    -When using socket.socket(), the default type=socket.SOCK_STREAM means that the socker only accepts TCP(transmission control protocol) connections.\n",
    "    -UDP(user datagram protocol) is another common protocol, it does not guarantee data delivery or the order of delivery, but is used when low latency is required.\n",
    "4. Which sensor did you use for the experiments, and what does it do? What are GPIO pins? What is\"ground\" in GPIO pins?\n",
    "    -We used the Adafruit DHT11 sensor, which is used for detecting temperature and humidity\n",
    "    -General Purpose Input/Output pins (GPIO), are input output pins which allow us to read or transmit signals on a microcontroller\n",
    "    -Ground is the voltage reference that the rest of the voltages on the GPIO pins are compared to\n",
    "5. What do \"encode\" and \"decode\" mean in the provided code? Why are they used here?\n",
    "    -'encode' is used to encode the 'data' string into bytes that can be sent over to the client. 'decode' is used to transform the bytes sent by the server into the original string.\n",
    "    -By encoding and decoding with the same character encoding, you can ensure that data is sent properly between both the server and the client, preventing mistakes like data corruption.\n",
    "6. Apart from socket programming, what are other ways to transmit data?\n",
    "    -Using Application Programming Interfaces (API), Remote Procedure Call (RPC), and Peer-to-Peer communication (P2P) just to name a few\n",
    "7. Why is 'Label' added in the data? What do 'valid' and 'invalid' mean? Which value represents 'valid'and 'invalid'?\n",
    "    -'Label' is used to differentiate between real data obtained from the sensors and data that is made up. It helps label the data for supervised learning.\n",
    "    -'Valid' data is real data obtained from the sensors. 'Invalid' data are values that were not created by the sensor.\n",
    "    -'Valid' data is labelled '1' and 'invalid' data is labelled '0'\n",
    "8. What is an edge server and what are advantages of using an edge server?\n",
    "    -A server that sits closer to the users or devices, at the edge of a network.\n",
    "    -Edge servers offer a reduced latency, better optimized bandwidth, better computational performence, and are more secure as data is transmitted locally"
   ]
  },
  {
   "cell_type": "markdown",
   "id": "42cef9b1",
   "metadata": {},
   "source": [
    "1. What is Anaconda? What benefits does Anaconda provide?\n",
    "    -Anaconda is a distribution of programming software that allows you to make python environments for different versions and packages\n",
    "    -Allows you to easily set up seperate programming enviornments, manage packages, and use Jupyter notebooks \n",
    "2. What is a missing value, null, or duplicate? Why do we need to clean them?\n",
    "    -Missing or null values are empty values in a file, while duplicates are multiple identical entries of the same data\n",
    "    -Missing or null files need to be filled in to gather a complete set of data and duplicates need to be removed to mitigate model bias\n",
    "3. Why do we need to split our data into training and testing sets?\n",
    "    -A ML model requires a training set to actually be trained and a testing set to verify that the model is behaving as intended and to the desired standard\n",
    "4. Why do we need scaling? What are the existing scaling techniques? What are the drawbacks of the min-max scaling technique?\n",
    "    -Algorithms such as KNN that rely on distance are influenced by the scale. Scaling allows for integrity of the calculations to be maintained. Variables that are measured at different scales dont contribute equally, leading to a bias.\n",
    "    -Some existing scaling techniques include: Min-max scaling and standardization.\n",
    "    -Min-max scaling is sensitive to outliers as the range is determined by the maximum and minimum values. If new data is out of the scaled range then the scaling will need to be adjusted also.\n",
    "5. Which machine-learning model did you choose? Why?\n",
    "    -k-nearest neighbors classifier(KNN), decision tree classifier(DTC), multi-layer perceptron classifier(MLP)\n",
    "    -KNN groups data points that are close together and works well when there are nice localized patterns, which we observed in our data set\n",
    "    -DTC creates a tree that branches based on different rules, these rules could help differentiate between the real and fake data\n",
    "    -MLP utilizes a neural network to detect complex patterns and relationships in data that other models might miss\n",
    "6. How did you evaluate your machine-learning model? Present your results in figure or table.\n",
    "    -We looked at the model accuracy, precision, recall, and f1 score\n",
    "    -*tables in the last code cell above*"
   ]
  },
  {
   "cell_type": "code",
   "execution_count": null,
   "id": "c75bd0a3",
   "metadata": {},
   "outputs": [],
   "source": []
  }
 ],
 "metadata": {
  "kernelspec": {
   "display_name": "Python 3 (ipykernel)",
   "language": "python",
   "name": "python3"
  },
  "language_info": {
   "codemirror_mode": {
    "name": "ipython",
    "version": 3
   },
   "file_extension": ".py",
   "mimetype": "text/x-python",
   "name": "python",
   "nbconvert_exporter": "python",
   "pygments_lexer": "ipython3",
   "version": "3.11.5"
  }
 },
 "nbformat": 4,
 "nbformat_minor": 5
}
